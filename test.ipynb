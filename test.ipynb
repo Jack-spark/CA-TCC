{
 "cells": [
  {
   "cell_type": "code",
   "execution_count": 1,
   "metadata": {},
   "outputs": [
    {
     "name": "stderr",
     "output_type": "stream",
     "text": [
      "c:\\Users\\chenjinghuang\\anaconda3\\envs\\TS-TCC\\lib\\site-packages\\tqdm\\auto.py:21: TqdmWarning: IProgress not found. Please update jupyter and ipywidgets. See https://ipywidgets.readthedocs.io/en/stable/user_install.html\n",
      "  from .autonotebook import tqdm as notebook_tqdm\n"
     ]
    },
    {
     "data": {
      "text/plain": [
       "['68749217-a3e7-41ff-b965-53293b1a6147.h5',\n",
       " 'd32fbf45-7bcf-4804-9f20-34823de54bcf.h5',\n",
       " 'b33632ff-3648-4604-93e2-c6313b16a09e.h5',\n",
       " 'a6624e57-c003-4c32-8ac5-03fc5770ccf8.h5',\n",
       " '0e20159f-cd04-4ce8-afaf-687dd450ba73.h5']"
      ]
     },
     "execution_count": 1,
     "metadata": {},
     "output_type": "execute_result"
    }
   ],
   "source": [
    "import os\n",
    "import json\n",
    "\n",
    "h5_directory = r'data/Dreamer/h5'\n",
    "import torch\n",
    "import json\n",
    "\n",
    "from dosed.datasets import BalancedEventDataset as dataset\n",
    "from dosed.datasets import get_train_validation_test\n",
    "\n",
    "train, validation, test = get_train_validation_test(h5_directory,\n",
    "                                                    percent_test=25,\n",
    "                                                    percent_validation=33,\n",
    "                                                    seed=0)\n",
    "window = 3# 3s\n",
    "radio_positive = 0.5 # 一个训练批次中，每个样本包含至少一个脑电活动（spindle）的概率\n",
    "fs = 32 # 原始64hz，降采样到32hz\n",
    "signals = [\n",
    "    {\n",
    "        'h5_path': '/eeg_0',\n",
    "        'fs': 64,\n",
    "        'processing': {\n",
    "            \"type\": \"clip_and_normalize\",\n",
    "            \"args\": {\n",
    "                    \"min_value\": -150,\n",
    "                \"max_value\": 150,\n",
    "            }\n",
    "        }\n",
    "    },\n",
    "    {\n",
    "        'h5_path': '/eeg_1',\n",
    "        'fs': 64,\n",
    "        'processing': {\n",
    "            \"type\": \"clip_and_normalize\",\n",
    "            \"args\": {\n",
    "                    \"min_value\": -150,\n",
    "                \"max_value\": 150,\n",
    "            }\n",
    "        }\n",
    "    }\n",
    "]\n",
    "\n",
    "events = [\n",
    "    {\n",
    "        \"name\": \"spindle\",\n",
    "        \"h5_path\": \"spindle\",\n",
    "    },\n",
    "]\n",
    "\n",
    "dataset_parameters = {\n",
    "    \"h5_directory\": h5_directory,#h5目录\n",
    "    \"signals\": signals,#信号，包括两个通道\n",
    "    \"events\": events,#事件，只有一个事件，即脑电活动（spindle）\n",
    "    \"window\": window,#窗口\n",
    "    \"fs\": fs,#采样率32\n",
    "    #\"ratio_positive\": ratio_positive,#一个训练批次中，每个样本包含至少一个脑电活动（spindle）的概率\n",
    "    \"n_jobs\": -1,  # Make use of parallel computing to extract and normalize signals from h5\n",
    "    \"cache_data\": True,  # by default will store normalized signals extracted from h5 in h5_directory + \"/.cache\" directory\n",
    "}\n",
    "train\n",
    "validation\n",
    "test"
   ]
  },
  {
   "cell_type": "code",
   "execution_count": 2,
   "metadata": {},
   "outputs": [],
   "source": [
    "dataset_train = dataset(records=train, **dataset_parameters)\n",
    "dataset_validation = dataset(records=validation, **dataset_parameters)\n",
    "dataset_test = dataset(records=test, **dataset_parameters)"
   ]
  },
  {
   "cell_type": "code",
   "execution_count": 3,
   "metadata": {},
   "outputs": [],
   "source": [
    "def save_dataset(dataset, filename):\n",
    "    data_list = []\n",
    "    label_list = []\n",
    "    for i in range(len(dataset)):\n",
    "        data_list.append(dataset[i][0])\n",
    "        if dataset[i][1].nelement() != 0:\n",
    "            label_list.append(1)\n",
    "        else:\n",
    "            label_list.append(0)\n",
    "    data_tensor = torch.stack(data_list)\n",
    "    label_tensor = torch.tensor(label_list)\n",
    "    data_dict = {'samples': data_tensor, 'labels': label_tensor}\n",
    "    torch.save(data_dict, filename)"
   ]
  },
  {
   "cell_type": "code",
   "execution_count": 4,
   "metadata": {},
   "outputs": [
    {
     "name": "stderr",
     "output_type": "stream",
     "text": [
      "d:\\Desktop\\research\\github repo\\CA-TCC\\dosed\\datasets\\dataset.py:388: UserWarning: The given NumPy array is not writeable, and PyTorch does not support non-writeable tensors. This means you can write to the underlying (supposedly non-writeable) NumPy array using the tensor. You may want to copy the array to protect its data or make it writeable before converting it to a tensor. This type of warning will be suppressed for the rest of this program. (Triggered internally at  ..\\torch\\csrc\\utils\\tensor_numpy.cpp:141.)\n",
      "  return torch.FloatTensor(signal_data), torch.FloatTensor(events_data)#相对开始时间、相对结束时间和标签添加到 events_data 中\n"
     ]
    }
   ],
   "source": [
    "save_dataset(dataset_train, 'train.pt')\n",
    "save_dataset(dataset_validation, 'validation.pt')\n",
    "save_dataset(dataset_test, 'test.pt')\n"
   ]
  }
 ],
 "metadata": {
  "kernelspec": {
   "display_name": "TS-TCC",
   "language": "python",
   "name": "python3"
  },
  "language_info": {
   "codemirror_mode": {
    "name": "ipython",
    "version": 3
   },
   "file_extension": ".py",
   "mimetype": "text/x-python",
   "name": "python",
   "nbconvert_exporter": "python",
   "pygments_lexer": "ipython3",
   "version": "3.8.18"
  }
 },
 "nbformat": 4,
 "nbformat_minor": 2
}
